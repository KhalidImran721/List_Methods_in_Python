{
 "cells": [
  {
   "cell_type": "markdown",
   "metadata": {},
   "source": [
    "# Khalid Imran (PIAIC57035, Islmabad)\n",
    "\n",
    "# List Methods in Python"
   ]
  },
  {
   "cell_type": "code",
   "execution_count": 17,
   "metadata": {},
   "outputs": [
    {
     "data": {
      "text/plain": [
       "['__add__',\n",
       " '__class__',\n",
       " '__contains__',\n",
       " '__delattr__',\n",
       " '__delitem__',\n",
       " '__dir__',\n",
       " '__doc__',\n",
       " '__eq__',\n",
       " '__format__',\n",
       " '__ge__',\n",
       " '__getattribute__',\n",
       " '__getitem__',\n",
       " '__gt__',\n",
       " '__hash__',\n",
       " '__iadd__',\n",
       " '__imul__',\n",
       " '__init__',\n",
       " '__init_subclass__',\n",
       " '__iter__',\n",
       " '__le__',\n",
       " '__len__',\n",
       " '__lt__',\n",
       " '__mul__',\n",
       " '__ne__',\n",
       " '__new__',\n",
       " '__reduce__',\n",
       " '__reduce_ex__',\n",
       " '__repr__',\n",
       " '__reversed__',\n",
       " '__rmul__',\n",
       " '__setattr__',\n",
       " '__setitem__',\n",
       " '__sizeof__',\n",
       " '__str__',\n",
       " '__subclasshook__',\n",
       " 'append',\n",
       " 'clear',\n",
       " 'copy',\n",
       " 'count',\n",
       " 'extend',\n",
       " 'index',\n",
       " 'insert',\n",
       " 'pop',\n",
       " 'remove',\n",
       " 'reverse',\n",
       " 'sort']"
      ]
     },
     "execution_count": 17,
     "metadata": {},
     "output_type": "execute_result"
    }
   ],
   "source": [
    "names = [\"khalid\", \"shahzain\", \"ahad\", \"Islamabad\"]\n",
    "\n",
    "dir(names)"
   ]
  },
  {
   "cell_type": "markdown",
   "metadata": {},
   "source": [
    "# Access the list items through indexing:"
   ]
  },
  {
   "cell_type": "code",
   "execution_count": 6,
   "metadata": {},
   "outputs": [
    {
     "name": "stdout",
     "output_type": "stream",
     "text": [
      "Islamabad\n"
     ]
    }
   ],
   "source": [
    "names = [\"khalid\", \"shahzain\", \"ahad\", \"Islamabad\"]\n",
    "\n",
    "print(names[3])"
   ]
  },
  {
   "cell_type": "markdown",
   "metadata": {},
   "source": [
    "# Access the list items through Negative indexing:"
   ]
  },
  {
   "cell_type": "code",
   "execution_count": 7,
   "metadata": {},
   "outputs": [
    {
     "name": "stdout",
     "output_type": "stream",
     "text": [
      "ahad\n"
     ]
    }
   ],
   "source": [
    "names = [\"Khalid\", \"Shahzain\", \"Ahad\", \"Islamabad\"]\n",
    "\n",
    "print(names[-2])"
   ]
  },
  {
   "cell_type": "markdown",
   "metadata": {},
   "source": [
    "# Range of List through specified index:"
   ]
  },
  {
   "cell_type": "code",
   "execution_count": 8,
   "metadata": {},
   "outputs": [
    {
     "name": "stdout",
     "output_type": "stream",
     "text": [
      "['shahzain', 'ahad']\n"
     ]
    }
   ],
   "source": [
    "names = [\"khalid\", \"shahzain\", \"ahad\", \"Islamabad\", \"Pakistan\"]\n",
    "\n",
    "print(names[1:3])"
   ]
  },
  {
   "cell_type": "code",
   "execution_count": 10,
   "metadata": {},
   "outputs": [
    {
     "name": "stdout",
     "output_type": "stream",
     "text": [
      "['khalid', 'shahzain', 'ahad']\n"
     ]
    }
   ],
   "source": [
    "names = [\"khalid\", \"shahzain\", \"ahad\", \"Islamabad\"]\n",
    "\n",
    "print(names[:3])"
   ]
  },
  {
   "cell_type": "code",
   "execution_count": 12,
   "metadata": {},
   "outputs": [
    {
     "name": "stdout",
     "output_type": "stream",
     "text": [
      "['ahad', 'Islamabad']\n"
     ]
    }
   ],
   "source": [
    "names = [\"khalid\", \"shahzain\", \"ahad\", \"Islamabad\"]\n",
    "\n",
    "print(names[2:])"
   ]
  },
  {
   "cell_type": "code",
   "execution_count": 14,
   "metadata": {},
   "outputs": [
    {
     "name": "stdout",
     "output_type": "stream",
     "text": [
      "['shahzain', 'ahad']\n"
     ]
    }
   ],
   "source": [
    "names = [\"khalid\", \"shahzain\", \"ahad\", \"Islamabad\"]\n",
    "\n",
    "print(names[-3:-1]) #Negative indexing means starting from the end of the list.\n",
    "\n",
    "#This example returns the items from index -3 (included) to index -1 (excluded)\n",
    "\n",
    "#Remember that the last item has the index -1,"
   ]
  },
  {
   "cell_type": "markdown",
   "metadata": {},
   "source": [
    "# Change items value through indexes:"
   ]
  },
  {
   "cell_type": "code",
   "execution_count": 16,
   "metadata": {},
   "outputs": [
    {
     "name": "stdout",
     "output_type": "stream",
     "text": [
      "['khalid', 'shahzain', 'ahad', 'Rawalpindi', 'Pakistan']\n"
     ]
    }
   ],
   "source": [
    "names = [\"khalid\", \"shahzain\", \"ahad\", \"Islamabad\", \"Pakistan\"]\n",
    "\n",
    "names[3] = \"Rawalpindi\" #To change the value of a specific item, refer to the index number\n",
    "\n",
    "print(names)"
   ]
  },
  {
   "cell_type": "markdown",
   "metadata": {},
   "source": [
    "# To find/Check a specific item in a list:"
   ]
  },
  {
   "cell_type": "code",
   "execution_count": 20,
   "metadata": {},
   "outputs": [
    {
     "name": "stdout",
     "output_type": "stream",
     "text": [
      "Yes Islamabad is included in this list\n"
     ]
    }
   ],
   "source": [
    "names = [\"khalid\", \"shahzain\", \"ahad\", \"Islamabad\", \"Pakistan\"]\n",
    "\n",
    "if \"Islamabad\" in names:\n",
    "    print(\"Yes Islamabad is included in this list\")"
   ]
  },
  {
   "cell_type": "markdown",
   "metadata": {},
   "source": [
    "# To Check out lenght of a List:"
   ]
  },
  {
   "cell_type": "code",
   "execution_count": 21,
   "metadata": {},
   "outputs": [
    {
     "name": "stdout",
     "output_type": "stream",
     "text": [
      "5\n"
     ]
    }
   ],
   "source": [
    "names = [\"khalid\", \"shahzain\", \"ahad\", \"Islamabad\", \"Pakistan\"]\n",
    "\n",
    "print(len(names))"
   ]
  },
  {
   "cell_type": "markdown",
   "metadata": {},
   "source": [
    "# LIST METHODS:"
   ]
  },
  {
   "cell_type": "markdown",
   "metadata": {},
   "source": [
    "# To Add an item at the end of a List:"
   ]
  },
  {
   "cell_type": "code",
   "execution_count": 22,
   "metadata": {},
   "outputs": [
    {
     "name": "stdout",
     "output_type": "stream",
     "text": [
      "['khalid', 'shahzain', 'ahad', 'Islamabad', 'Pakistan', 'Rawalpindi']\n"
     ]
    }
   ],
   "source": [
    "names = [\"khalid\", \"shahzain\", \"ahad\", \"Islamabad\", \"Pakistan\"]\n",
    "\n",
    "names.append(\"Rawalpindi\")\n",
    "\n",
    "print(names)"
   ]
  },
  {
   "cell_type": "markdown",
   "metadata": {},
   "source": [
    "# To Insert an item at specific postion of a List:"
   ]
  },
  {
   "cell_type": "code",
   "execution_count": 23,
   "metadata": {},
   "outputs": [
    {
     "name": "stdout",
     "output_type": "stream",
     "text": [
      "['khalid', 'shahzain', 'ahad', 'Rawalpindi', 'Islamabad', 'Pakistan']\n"
     ]
    }
   ],
   "source": [
    "names = [\"khalid\", \"shahzain\", \"ahad\", \"Islamabad\", \"Pakistan\"]\n",
    "\n",
    "names.insert(3, \"Rawalpindi\")\n",
    "\n",
    "print(names)"
   ]
  },
  {
   "cell_type": "markdown",
   "metadata": {},
   "source": [
    "# To Clear the list:"
   ]
  },
  {
   "cell_type": "code",
   "execution_count": 24,
   "metadata": {},
   "outputs": [
    {
     "name": "stdout",
     "output_type": "stream",
     "text": [
      "[]\n"
     ]
    }
   ],
   "source": [
    "names = [\"khalid\", \"shahzain\", \"ahad\", \"Islamabad\", \"Pakistan\"]\n",
    "\n",
    "names.clear()\n",
    "\n",
    "print(names)"
   ]
  },
  {
   "cell_type": "markdown",
   "metadata": {},
   "source": [
    "# To Copy a list:"
   ]
  },
  {
   "cell_type": "code",
   "execution_count": 25,
   "metadata": {},
   "outputs": [
    {
     "name": "stdout",
     "output_type": "stream",
     "text": [
      "['khalid', 'shahzain', 'ahad', 'Islamabad', 'Pakistan']\n"
     ]
    }
   ],
   "source": [
    "names = [\"khalid\", \"shahzain\", \"ahad\", \"Islamabad\", \"Pakistan\"]\n",
    "\n",
    "data = names.copy()\n",
    "\n",
    "print(data)"
   ]
  },
  {
   "cell_type": "markdown",
   "metadata": {},
   "source": [
    "# Count in list"
   ]
  },
  {
   "cell_type": "code",
   "execution_count": 32,
   "metadata": {},
   "outputs": [
    {
     "name": "stdout",
     "output_type": "stream",
     "text": [
      "2\n"
     ]
    }
   ],
   "source": [
    "names = [\"khalid\", \"shahzain\", \"ahad\", \"Islamabad\", \"Pakistan\", \"khalid\"]\n",
    "\n",
    "a = names.count(\"khalid\") #To count an item in a list\n",
    "\n",
    "print(a)"
   ]
  },
  {
   "cell_type": "markdown",
   "metadata": {},
   "source": [
    "# extend"
   ]
  },
  {
   "cell_type": "code",
   "execution_count": 35,
   "metadata": {},
   "outputs": [
    {
     "name": "stdout",
     "output_type": "stream",
     "text": [
      "['khalid', 'shahzain', 'ahad', 'Islamabad', 'Pakistan', 'Ahmad', 'Saeed', 'Shahid']\n"
     ]
    }
   ],
   "source": [
    "names = [\"khalid\", \"shahzain\", \"ahad\", \"Islamabad\", \"Pakistan\"]\n",
    "\n",
    "names_2 = [\"Ahmad\", \"Saeed\", \"Shahid\"]\n",
    "\n",
    "names.extend(names_2)\n",
    "\n",
    "print(names)"
   ]
  },
  {
   "cell_type": "markdown",
   "metadata": {},
   "source": [
    "# index"
   ]
  },
  {
   "cell_type": "code",
   "execution_count": 36,
   "metadata": {},
   "outputs": [
    {
     "name": "stdout",
     "output_type": "stream",
     "text": [
      "3\n"
     ]
    }
   ],
   "source": [
    "names = [\"khalid\", \"shahzain\", \"ahad\", \"Islamabad\", \"Pakistan\"]\n",
    "\n",
    "print(names.index(\"Islamabad\")) #find the specified item's index value"
   ]
  },
  {
   "cell_type": "markdown",
   "metadata": {},
   "source": [
    "# pop"
   ]
  },
  {
   "cell_type": "code",
   "execution_count": 40,
   "metadata": {},
   "outputs": [
    {
     "name": "stdout",
     "output_type": "stream",
     "text": [
      "['khalid', 'shahzain', 'ahad', 'Pakistan']\n"
     ]
    }
   ],
   "source": [
    "names = [\"khalid\", \"shahzain\", \"ahad\", \"Islamabad\", \"Pakistan\"]\n",
    "\n",
    "names.pop(3)\n",
    "\n",
    "print(names) # pop up the specified item on given index value"
   ]
  },
  {
   "cell_type": "markdown",
   "metadata": {},
   "source": [
    "# remove"
   ]
  },
  {
   "cell_type": "code",
   "execution_count": 43,
   "metadata": {},
   "outputs": [
    {
     "name": "stdout",
     "output_type": "stream",
     "text": [
      "['khalid', 'shahzain', 'ahad', 'Pakistan']\n"
     ]
    }
   ],
   "source": [
    "names = [\"khalid\", \"shahzain\", \"ahad\", \"Islamabad\", \"Pakistan\"]\n",
    "\n",
    "names.remove(\"Islamabad\") #remove the specified item from list\n",
    "\n",
    "print(names)"
   ]
  },
  {
   "cell_type": "markdown",
   "metadata": {},
   "source": [
    "# reverse"
   ]
  },
  {
   "cell_type": "code",
   "execution_count": 44,
   "metadata": {},
   "outputs": [
    {
     "name": "stdout",
     "output_type": "stream",
     "text": [
      "['Pakistan', 'Islamabad', 'ahad', 'shahzain', 'khalid']\n"
     ]
    }
   ],
   "source": [
    "names = [\"khalid\", \"shahzain\", \"ahad\", \"Islamabad\", \"Pakistan\"]\n",
    "\n",
    "names.reverse() #reverse the list items\n",
    "\n",
    "print(names)"
   ]
  },
  {
   "cell_type": "markdown",
   "metadata": {},
   "source": [
    "# sort"
   ]
  },
  {
   "cell_type": "code",
   "execution_count": null,
   "metadata": {},
   "outputs": [],
   "source": []
  },
  {
   "cell_type": "code",
   "execution_count": 46,
   "metadata": {},
   "outputs": [
    {
     "name": "stdout",
     "output_type": "stream",
     "text": [
      "['ahad', 'islamabad', 'khalid', 'pakistan', 'shahzain']\n"
     ]
    }
   ],
   "source": [
    "names = [\"khalid\", \"shahzain\", \"ahad\", \"islamabad\", \"pakistan\"]\n",
    "\n",
    "names.sort() #sort the specified list\n",
    "\n",
    "print(names)"
   ]
  },
  {
   "cell_type": "code",
   "execution_count": null,
   "metadata": {},
   "outputs": [],
   "source": []
  }
 ],
 "metadata": {
  "kernelspec": {
   "display_name": "Python 3",
   "language": "python",
   "name": "python3"
  },
  "language_info": {
   "codemirror_mode": {
    "name": "ipython",
    "version": 3
   },
   "file_extension": ".py",
   "mimetype": "text/x-python",
   "name": "python",
   "nbconvert_exporter": "python",
   "pygments_lexer": "ipython3",
   "version": "3.7.4"
  }
 },
 "nbformat": 4,
 "nbformat_minor": 2
}
